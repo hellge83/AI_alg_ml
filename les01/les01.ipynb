{
 "cells": [
  {
   "cell_type": "code",
   "execution_count": 1,
   "metadata": {},
   "outputs": [],
   "source": [
    "import numpy as np\n",
    "import matplotlib.pyplot as plt\n",
    "import itertools"
   ]
  },
  {
   "cell_type": "markdown",
   "metadata": {},
   "source": [
    "## task 01"
   ]
  },
  {
   "cell_type": "markdown",
   "metadata": {},
   "source": [
    "Подберите скорость обучения (alpha) и количество итераций:"
   ]
  },
  {
   "cell_type": "code",
   "execution_count": 2,
   "metadata": {},
   "outputs": [],
   "source": [
    "X = np.array([[1, 1, 1, 1, 1, 1, 1, 1, 1, 1], [1, 1, 2, 1, 3, 0, 5, 10, 1, 2]]).T\n",
    "y = [45, 55, 50, 59, 65, 35, 75, 80, 50, 60]"
   ]
  },
  {
   "cell_type": "code",
   "execution_count": 3,
   "metadata": {},
   "outputs": [],
   "source": [
    "def calc_mse(y, y_pred):\n",
    "    err = np.mean((y - y_pred)**2)\n",
    "    return err"
   ]
  },
  {
   "cell_type": "code",
   "execution_count": 4,
   "metadata": {},
   "outputs": [],
   "source": [
    "def gradient_boost(X, y, eta, max_iter):\n",
    "    n = len(y)\n",
    "    W = np.random.normal(size = 2)\n",
    "    eps = 1e-6 # критерий сходимости\n",
    "    weight_dist = np.inf # начальная разница весов\n",
    "    i = 0 # счетчик итераций\n",
    "    \n",
    "    while weight_dist > eps and i < max_iter:\n",
    "        y_pred = W.dot(X.T)\n",
    "        err = calc_mse(y, y_pred)\n",
    "\n",
    "        W_new = W - 2 * eta * X.T.dot(X.dot(W) - y) / n\n",
    "        weight_dist = np.linalg.norm(W_new - W, ord = 2)\n",
    "#         eta = 1/ (i + 1)\n",
    "        i += 1\n",
    "        W = W_new\n",
    "#     if i % 100 == 0:\n",
    "#         print(i, W, err, weight_dist, weight_dist > eps)\n",
    "    return W, i, err"
   ]
  },
  {
   "cell_type": "code",
   "execution_count": 5,
   "metadata": {},
   "outputs": [],
   "source": [
    "etas = np.array([1e-2, 1e-4, 1e-6])\n",
    "iters = np.array([1000, 10000, 100000])"
   ]
  },
  {
   "cell_type": "code",
   "execution_count": 6,
   "metadata": {},
   "outputs": [
    {
     "data": {
      "text/plain": [
       "[[0.01, 1000, array([47.23083321,  3.91095612]), 1000, 45.93750094158573],\n",
       " [0.01, 10000, array([47.2320499 ,  3.91073145]), 1254, 45.93750000474405],\n",
       " [0.01, 100000, array([47.23204958,  3.91073151]), 1253, 45.937500004776545],\n",
       " [0.0001, 1000, array([ 6.40608726, 10.83899528]), 1000, 942.8955668456398],\n",
       " [0.0001, 10000, array([31.59824669,  6.79763281]), 10000, 177.36861967711576],\n",
       " [0.0001,\n",
       "  100000,\n",
       "  array([47.22268673,  3.91246043]),\n",
       "  81316,\n",
       "  45.937548082887076],\n",
       " [1e-06, 1000, array([-0.44206916,  1.0314218 ]), 1000, 3153.722729785127],\n",
       " [1e-06, 10000, array([2.95964975, 3.96867628]), 10000, 1992.7563751821303],\n",
       " [1e-06, 100000, array([ 5.33378393, 11.13729152]), 100000, 989.4090951203649]]"
      ]
     },
     "execution_count": 6,
     "metadata": {},
     "output_type": "execute_result"
    }
   ],
   "source": [
    "a = []\n",
    "\n",
    "for pair in itertools.product(etas, iters):\n",
    "    W, i, err = gradient_boost(X, y, *pair)\n",
    "    a.append([*pair, W, i, err])\n",
    "a"
   ]
  },
  {
   "cell_type": "code",
   "execution_count": 7,
   "metadata": {},
   "outputs": [
    {
     "data": {
      "text/plain": [
       "[0.01, 10000, array([47.2320499 ,  3.91073145]), 1254, 45.93750000474405]"
      ]
     },
     "execution_count": 7,
     "metadata": {},
     "output_type": "execute_result"
    }
   ],
   "source": [
    "# индекс элемента массива a, у которого err минимальна\n",
    "ind = [params[-1] for params in a].index(min([params[-1] for params in a]))\n",
    "a[ind]"
   ]
  },
  {
   "cell_type": "code",
   "execution_count": 8,
   "metadata": {},
   "outputs": [],
   "source": [
    "W = a[ind][2]\n",
    "best_eta = a[ind][0]\n",
    "if a[ind][1] > a[ind][3]: #алгоритм сошелся раньше, чем достигли max_iter\n",
    "    best_iter = a[ind][3]\n",
    "else: #алгоритм так и не сошелся при данных eta и eps\n",
    "    best_iter = a[ind][1] \n",
    "    print('алгоритм не сошелся')"
   ]
  },
  {
   "cell_type": "code",
   "execution_count": 9,
   "metadata": {},
   "outputs": [
    {
     "name": "stdout",
     "output_type": "stream",
     "text": [
      "[47.2320499   3.91073145] 0.01 1254\n"
     ]
    }
   ],
   "source": [
    "print(W, best_eta, best_iter)"
   ]
  },
  {
   "cell_type": "code",
   "execution_count": 10,
   "metadata": {},
   "outputs": [],
   "source": [
    "# шаг спуска\n",
    "# eta = 1\n",
    "# при eta = 1/ (i + 1) в функции градиентного спуска алгоритм сходится быстрее"
   ]
  },
  {
   "cell_type": "code",
   "execution_count": 11,
   "metadata": {},
   "outputs": [
    {
     "data": {
      "text/plain": [
       "<matplotlib.legend.Legend at 0x20df0861248>"
      ]
     },
     "execution_count": 11,
     "metadata": {},
     "output_type": "execute_result"
    },
    {
     "data": {
      "image/png": "[encoded data removed]",
      "text/plain": [
       "<Figure size 720x504 with 1 Axes>"
      ]
     },
     "metadata": {
      "needs_background": "light"
     },
     "output_type": "display_data"
    }
   ],
   "source": [
    "fig = plt.figure(figsize=(10, 7))\n",
    "plt.scatter(X.T[1], y)\n",
    "plt.plot(X.T[1], W[0] + W[1] * X.T[1], label = f'{round(W[0], 2)} + {round(W[1], 2)} * x')\n",
    "plt.legend()"
   ]
  }
 ],
 "metadata": {
  "kernelspec": {
   "display_name": "Python 3",
   "language": "python",
   "name": "python3"
  },
  "language_info": {
   "codemirror_mode": {
    "name": "ipython",
    "version": 3
   },
   "file_extension": ".py",
   "mimetype": "text/x-python",
   "name": "python",
   "nbconvert_exporter": "python",
   "pygments_lexer": "ipython3",
   "version": "3.7.9"
  }
 },
 "nbformat": 4,
 "nbformat_minor": 4
}
