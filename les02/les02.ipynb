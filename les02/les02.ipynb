{
 "cells": [
  {
   "cell_type": "code",
   "execution_count": 1,
   "metadata": {},
   "outputs": [],
   "source": [
    "import numpy as np\n",
    "from sklearn import datasets\n",
    "import matplotlib.pyplot as plt\n",
    "import itertools\n",
    "%matplotlib inline"
   ]
  },
  {
   "cell_type": "markdown",
   "metadata": {},
   "source": [
    "## task 01"
   ]
  },
  {
   "cell_type": "markdown",
   "metadata": {},
   "source": [
    "1. Сгенерировать датасет при помощи sklearn.datasets.make_regression и обучить линейную модель при помощи градиентного и стохастического градиентного спуска. Нанести среднеквадратичную ошибку для обоих методов на один график, сделать выводы о разнице скорости сходимости каждого из методов.\n",
    "2. Модифицировать решение первого задания путем добавления 𝐿2 -регуляризации и сравнить результаты.\n",
    "3. Модернизировать решение задания 2, заменив L2 регуляризацию на L1 регуляризацию."
   ]
  },
  {
   "cell_type": "code",
   "execution_count": 2,
   "metadata": {},
   "outputs": [],
   "source": [
    "def calc_mse(y, y_pred):\n",
    "    err = np.mean((y - y_pred)**2)\n",
    "    return err"
   ]
  },
  {
   "cell_type": "code",
   "execution_count": 3,
   "metadata": {},
   "outputs": [],
   "source": [
    "def gd_model(X, y, max_iter, eta = 0.01):\n",
    "    eps = 1e-8\n",
    "    n = y.shape[0]\n",
    "    W = np.zeros(2)\n",
    "    weight_dist = np.inf\n",
    "    i = 0\n",
    "    weights = [W.copy()]\n",
    "    errors = []\n",
    "    \n",
    "    while weight_dist > eps and i < max_iter:\n",
    "        y_pred = W.dot(X.T)\n",
    "        err = calc_mse(y, y_pred)\n",
    "\n",
    "        W_new = W - eta * 2 * X.T.dot(X.dot(W) - y) / n\n",
    "        weight_dist = np.linalg.norm(W_new - W, ord = 2)\n",
    "        i += 1\n",
    "        weights.append(W_new)\n",
    "        errors.append(err)\n",
    "        W = W_new\n",
    "    weights = np.array(weights)\n",
    "    return W, errors, weights, err, i"
   ]
  },
  {
   "cell_type": "code",
   "execution_count": 4,
   "metadata": {},
   "outputs": [],
   "source": [
    "def sgd_model(X, y, max_iter, eta = 0.01):\n",
    "    eps = 1e-8\n",
    "    n = y.shape[0]\n",
    "    W = np.zeros(2)\n",
    "    weight_dist = np.inf\n",
    "    i = 0\n",
    "    weights = [W.copy()]\n",
    "    errors = []\n",
    "    np.random.seed(1234) # начальные условия генератора случайных чисел\n",
    "    \n",
    "    while weight_dist > eps and i < max_iter:\n",
    "        \n",
    "        train_ind = np.random.randint(X.shape[0]) #случайный индекс объекта выборки\n",
    "        \n",
    "        y_pred = W.dot(X.T)\n",
    "        err = calc_mse(y, y_pred)\n",
    "        \n",
    "        W_new = W - eta * 2 * X[train_ind].T.dot(X[train_ind].dot(W) - y[train_ind]) / n\n",
    "        weight_dist = np.linalg.norm(W_new - W, ord = 2)\n",
    "        i += 1\n",
    "        weights.append(W_new)\n",
    "        errors.append(err)\n",
    "        W = W_new\n",
    "    weights = np.array(weights)\n",
    "    return W, errors, weights, err, i"
   ]
  },
  {
   "cell_type": "code",
   "execution_count": 5,
   "metadata": {},
   "outputs": [],
   "source": [
    "#Lasso\n",
    "def sgd_model_l1(X, y, max_iter, eta = 0.01, lambda_ = 1e-8):\n",
    "    eps = 1e-8\n",
    "    n = y.shape[0]\n",
    "    W = np.zeros(2)\n",
    "    weight_dist = np.inf\n",
    "    i = 0\n",
    "    weights = [W.copy()]\n",
    "    errors = []\n",
    "    np.random.seed(1234) # начальные условия генератора случайных чисел\n",
    "    \n",
    "    while weight_dist > eps and i < max_iter:\n",
    "        \n",
    "        train_ind = np.random.randint(X.shape[0]) #случайный индекс объекта выборки\n",
    "        \n",
    "        y_pred = W.dot(X.T)\n",
    "        err = calc_mse(y, y_pred)\n",
    "        \n",
    "        W_new = W - eta * (2 * X[train_ind].T.dot(X[train_ind].dot(W) - y[train_ind]) / n + lambda_ * np.linalg.norm(W, ord = 1)) #сумма модулей W\n",
    "        weight_dist = np.linalg.norm(W_new - W, ord = 2)\n",
    "        i += 1\n",
    "        weights.append(W_new)\n",
    "        errors.append(err)\n",
    "        W = W_new\n",
    "    weights = np.array(weights)\n",
    "    return W, errors, weights, err, i"
   ]
  },
  {
   "cell_type": "code",
   "execution_count": 6,
   "metadata": {},
   "outputs": [],
   "source": [
    "#Ridge\n",
    "def sgd_model_l2(X, y, max_iter, eta = 0.01, lambda_ = 1e-8):\n",
    "    eps = 1e-8\n",
    "    n = y.shape[0]\n",
    "    W = np.zeros(2)\n",
    "    weight_dist = np.inf\n",
    "    i = 0\n",
    "    weights = [W.copy()]\n",
    "    errors = []\n",
    "    np.random.seed(1234) # начальные условия генератора случайных чисел\n",
    "    \n",
    "    while weight_dist > eps and i < max_iter:\n",
    "        \n",
    "        train_ind = np.random.randint(X.shape[0]) #случайный индекс объекта выборки\n",
    "        \n",
    "        y_pred = W.dot(X.T)\n",
    "        err = calc_mse(y, y_pred)\n",
    "        \n",
    "        W_new = W - eta * (2 * X[train_ind].T.dot(X[train_ind].dot(W) - y[train_ind]) / n + lambda_ * W.T.dot(W)) #сумма квадратов W\n",
    "        weight_dist = np.linalg.norm(W_new - W, ord = 2)\n",
    "        i += 1\n",
    "        weights.append(W_new)\n",
    "        errors.append(err)\n",
    "        W = W_new\n",
    "    weights = np.array(weights)\n",
    "    return W, errors, weights, err, i"
   ]
  },
  {
   "cell_type": "code",
   "execution_count": 7,
   "metadata": {},
   "outputs": [],
   "source": [
    "# генерация набора данных. X, y, истинные веса W\n",
    "data, target, coef = datasets.make_regression(n_samples=1000, \n",
    "                                              n_features = 2, \n",
    "                                              n_informative = 2, \n",
    "                                              n_targets = 1, \n",
    "                                              noise = 5, \n",
    "                                              coef = True, \n",
    "                                              random_state = 2)"
   ]
  },
  {
   "cell_type": "code",
   "execution_count": 8,
   "metadata": {},
   "outputs": [
    {
     "data": {
      "text/plain": [
       "array([62.6735955, 68.0472182])"
      ]
     },
     "execution_count": 8,
     "metadata": {},
     "output_type": "execute_result"
    }
   ],
   "source": [
    "coef"
   ]
  },
  {
   "cell_type": "code",
   "execution_count": 9,
   "metadata": {},
   "outputs": [],
   "source": [
    "#стандартизация\n",
    "# data_st = (data - data.mean(axis = 0)) / data.std(axis = 0)\n",
    "# data_st"
   ]
  },
  {
   "cell_type": "code",
   "execution_count": 10,
   "metadata": {},
   "outputs": [],
   "source": [
    "#наборы параметров\n",
    "etas = np.array([1e-2, 1e-4, 1e-6])\n",
    "iters = np.array([1e4, 1e5, 2e5])\n",
    "lambdas = np.array([1e-6, 1e-8, 1e-10])"
   ]
  },
  {
   "cell_type": "code",
   "execution_count": 11,
   "metadata": {},
   "outputs": [
    {
     "name": "stdout",
     "output_type": "stream",
     "text": [
      "алгоритм не сошелся\n"
     ]
    },
    {
     "data": {
      "text/plain": [
       "(0.01, 1e-08, 200000.0, 30.397063972152683)"
      ]
     },
     "execution_count": 11,
     "metadata": {},
     "output_type": "execute_result"
    }
   ],
   "source": [
    "#подбор параметров sgd_L2\n",
    "a = []\n",
    "for vals in itertools.product(iters, etas, lambdas):\n",
    "    W, errors, weights, err, i = sgd_model_l2(data, target, *vals)\n",
    "    a.append([*vals, W, i, err])\n",
    "\n",
    "ind = [params[-1] for params in a].index(min([params[-1] for params in a]))\n",
    "best_mse = a[ind][5]\n",
    "best_eta = a[ind][1]\n",
    "best_lambda = a[ind][2]\n",
    "if a[ind][0] > a[ind][4]: #алгоритм сошелся раньше, чем достигли max_iter\n",
    "    best_iter = a[ind][4]\n",
    "else: #алгоритм так и не сошелся при данных eta, max_iters и lambda_\n",
    "    best_iter = a[ind][0] \n",
    "    print('алгоритм не сошелся')\n",
    "\n",
    "best_eta, best_lambda, best_iter, best_mse"
   ]
  },
  {
   "cell_type": "code",
   "execution_count": 12,
   "metadata": {},
   "outputs": [],
   "source": [
    "#Все варианты буду запускать с параметрами, подобранными для SGD L2 для того, чтобы были сравнимы результаты"
   ]
  },
  {
   "cell_type": "code",
   "execution_count": 13,
   "metadata": {},
   "outputs": [
    {
     "name": "stdout",
     "output_type": "stream",
     "text": [
      "48.3 ms ± 4.44 ms per loop (mean ± std. dev. of 7 runs, 10 loops each)\n"
     ]
    }
   ],
   "source": [
    "%%timeit\n",
    "gd_model(data, target, best_iter)"
   ]
  },
  {
   "cell_type": "code",
   "execution_count": 14,
   "metadata": {},
   "outputs": [
    {
     "name": "stdout",
     "output_type": "stream",
     "text": [
      "2.62 s ± 109 ms per loop (mean ± std. dev. of 7 runs, 1 loop each)\n"
     ]
    }
   ],
   "source": [
    "%%timeit\n",
    "sgd_model(data, target, best_iter)"
   ]
  },
  {
   "cell_type": "code",
   "execution_count": 15,
   "metadata": {},
   "outputs": [
    {
     "name": "stdout",
     "output_type": "stream",
     "text": [
      "3.25 s ± 68.7 ms per loop (mean ± std. dev. of 7 runs, 1 loop each)\n"
     ]
    }
   ],
   "source": [
    "%%timeit\n",
    "sgd_model_l1(data, target, best_iter, best_eta, best_lambda)"
   ]
  },
  {
   "cell_type": "code",
   "execution_count": 16,
   "metadata": {},
   "outputs": [
    {
     "name": "stdout",
     "output_type": "stream",
     "text": [
      "7.49 s ± 177 ms per loop (mean ± std. dev. of 7 runs, 1 loop each)\n"
     ]
    }
   ],
   "source": [
    "%%timeit\n",
    "sgd_model_l2(data, target, best_iter, best_eta, best_lambda)"
   ]
  },
  {
   "cell_type": "code",
   "execution_count": 17,
   "metadata": {},
   "outputs": [],
   "source": [
    "W_gd, mse_gd, w_gd, err_gd, iters_gd = gd_model(data, target, best_iter)"
   ]
  },
  {
   "cell_type": "code",
   "execution_count": 18,
   "metadata": {},
   "outputs": [],
   "source": [
    "W_sgd, mse_sgd, w_sgd, err_sgd, iters_sgd = sgd_model(data, target, best_iter)"
   ]
  },
  {
   "cell_type": "code",
   "execution_count": 19,
   "metadata": {},
   "outputs": [],
   "source": [
    "W_sgd_l1, mse_sgd_l1, w_sgd_l1, err_sgd_l1, iters_sgd_l1 = sgd_model_l1(data, target, best_iter, best_eta, best_lambda)"
   ]
  },
  {
   "cell_type": "code",
   "execution_count": 20,
   "metadata": {},
   "outputs": [],
   "source": [
    "W_sgd_l2, mse_sgd_l2, w_sgd_l2, err_sgd_l2, iters_sgd_l2 = sgd_model_l2(data, target, best_iter, best_eta, best_lambda)"
   ]
  },
  {
   "cell_type": "code",
   "execution_count": 21,
   "metadata": {},
   "outputs": [
    {
     "data": {
      "image/png": "[encoded data removed]",
      "text/plain": [
       "<Figure size 936x432 with 1 Axes>"
      ]
     },
     "metadata": {
      "needs_background": "light"
     },
     "output_type": "display_data"
    }
   ],
   "source": [
    "plt.figure(figsize=(13, 6))\n",
    "plt.title('GD vs SGD weights')\n",
    "plt.xlabel(r'$w_1$')\n",
    "plt.ylabel(r'$w_2$')\n",
    "\n",
    "plt.scatter(w_sgd[:, 0], w_sgd[:, 1], c = 'orange', marker = '.', label = 'SGD')\n",
    "plt.scatter(w_gd[:, 0], w_gd[:, 1], c = 'g', marker = '.', label = 'GD')\n",
    "plt.scatter(coef[0], coef[1], c = 'r')\n",
    "plt.legend(loc=\"best\")\n",
    "\n",
    "plt.show()"
   ]
  },
  {
   "cell_type": "code",
   "execution_count": 22,
   "metadata": {},
   "outputs": [
    {
     "data": {
      "image/png": "[encoded data removed]",
      "text/plain": [
       "<Figure size 936x432 with 1 Axes>"
      ]
     },
     "metadata": {
      "needs_background": "light"
     },
     "output_type": "display_data"
    }
   ],
   "source": [
    "plt.figure(figsize=(13, 6))\n",
    "plt.plot(range(len(mse_gd)), mse_gd, c = 'g', label = 'GD')\n",
    "plt.plot(range(len(mse_sgd_l2)), mse_sgd_l2, c = 'blue', label = 'SGD_L2')\n",
    "plt.plot(range(len(mse_sgd)), mse_sgd, c = 'orange', label = 'SGD')\n",
    "\n",
    "plt.title('GD vs SGD MSE')\n",
    "plt.xlabel('Iteration number')\n",
    "plt.ylabel('MSE')\n",
    "plt.legend(loc=\"best\")\n",
    "plt.show()"
   ]
  },
  {
   "cell_type": "code",
   "execution_count": 23,
   "metadata": {},
   "outputs": [
    {
     "data": {
      "text/plain": [
       "(26.425904860870876, 457.0202612517431, 457.0369641341383, 30.397063972152683)"
      ]
     },
     "execution_count": 23,
     "metadata": {},
     "output_type": "execute_result"
    }
   ],
   "source": [
    "# mse compare\n",
    "err_gd, err_sgd, err_sgd_l1, err_sgd_l2"
   ]
  },
  {
   "cell_type": "code",
   "execution_count": 24,
   "metadata": {},
   "outputs": [
    {
     "data": {
      "text/plain": [
       "(986, 75746, 75746, 200000)"
      ]
     },
     "execution_count": 24,
     "metadata": {},
     "output_type": "execute_result"
    }
   ],
   "source": [
    "iters_gd, iters_sgd, iters_sgd_l1, iters_sgd_l2"
   ]
  },
  {
   "cell_type": "code",
   "execution_count": 25,
   "metadata": {},
   "outputs": [
    {
     "data": {
      "text/plain": [
       "(array([62.6735955, 68.0472182]),\n",
       " array([62.32796201, 68.27977903]),\n",
       " array([47.87020685, 52.73031879]),\n",
       " array([47.86991479, 52.73002793]),\n",
       " array([60.93897184, 66.78696611]))"
      ]
     },
     "execution_count": 25,
     "metadata": {},
     "output_type": "execute_result"
    }
   ],
   "source": [
    "coef, W_gd, W_sgd, W_sgd_l1, W_sgd_l2"
   ]
  },
  {
   "cell_type": "markdown",
   "metadata": {},
   "source": [
    "## Выводы"
   ]
  },
  {
   "cell_type": "markdown",
   "metadata": {},
   "source": [
    "* GD по количеству итераций сошелся гораздо быстрее, чем SGD. Однако, проигрывает ему по времени (и ресурсам)\n",
    "* среднеквадратичная ошибка алгоритма SGD без регуляризации оказалась на порядок выше, чем у GD (457 против 26)\n",
    "* L1 регуляризация в данном случае не дала положительного результата\n",
    "* L2 регуляризация остановилась по параметру max_iters, но среднеквадратичная ошибка при выбранном количестве итераций сравнима с ошибкой алгоритма GD. При количестве итераций 100000 (~ max_iters SGD без регуляризации) она оказалась около 197, что вдвое меньше. При увеличении итераций в 2 раза ошибка снизилась до 30 (в 6 раз)\n",
    "* Дальнейшее увеличение количества итераций SGD L2 уже мало влияет на темпы снижения среднеквадратичной ошибки\n",
    "* Несмотря на увеличение количества итераций, SGD с L2 регуляризацией все равно сильно выиграл у GD по времени \n"
   ]
  },
  {
   "cell_type": "code",
   "execution_count": 26,
   "metadata": {},
   "outputs": [],
   "source": [
    "#### проверила расчет суммы модулей и суммы квадратов вектора весов для случая отрицательных коэффициентов "
   ]
  },
  {
   "cell_type": "code",
   "execution_count": 27,
   "metadata": {},
   "outputs": [],
   "source": [
    "t = np.array([-1, 2])"
   ]
  },
  {
   "cell_type": "code",
   "execution_count": 28,
   "metadata": {},
   "outputs": [
    {
     "data": {
      "text/plain": [
       "3.0"
      ]
     },
     "execution_count": 28,
     "metadata": {},
     "output_type": "execute_result"
    }
   ],
   "source": [
    "np.linalg.norm(t, ord = 1)"
   ]
  },
  {
   "cell_type": "code",
   "execution_count": 29,
   "metadata": {},
   "outputs": [
    {
     "data": {
      "text/plain": [
       "5"
      ]
     },
     "execution_count": 29,
     "metadata": {},
     "output_type": "execute_result"
    }
   ],
   "source": [
    "t.T.dot(t)"
   ]
  }
 ],
 "metadata": {
  "kernelspec": {
   "display_name": "Python 3",
   "language": "python",
   "name": "python3"
  },
  "language_info": {
   "codemirror_mode": {
    "name": "ipython",
    "version": 3
   },
   "file_extension": ".py",
   "mimetype": "text/x-python",
   "name": "python",
   "nbconvert_exporter": "python",
   "pygments_lexer": "ipython3",
   "version": "3.7.9"
  }
 },
 "nbformat": 4,
 "nbformat_minor": 4
}
